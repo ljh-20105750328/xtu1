{
 "cells": [
  {
   "cell_type": "markdown",
   "metadata": {},
   "source": [
    "# 《数据采集与清洗》\n",
    "## 第二次作业内容： 数据抽取\n",
    "### 考察内容：\n",
    "+ 正则表达式\n",
    "+ lxml\n",
    "+ BeautifulSoup\n",
    "+ JSON，API\n",
    "\n",
    "### 注：\n",
    "+ 代码要有注释，结果要有分析；\n",
    "+ 本次作业提交截至时间：2020年3月19日(星期四)；\n",
    "+ 文件命名规则: 班级号+学号+姓名+作业序号，示例：``1_20188989899_李明_2``；\n",
    "+ 提交方式：1班发送至邮箱：632994085@qq.com；2班发送至邮箱：786888939@qq.com."
   ]
  },
  {
   "cell_type": "markdown",
   "metadata": {},
   "source": [
    "### 正则表达式\n",
    "+ 请给出匹配邮箱的正则表达式，并给出测试例子；\n",
    "+ 请给出匹配URL地址的正则表达式，并给出测试例子；\n",
    "+ 请给出一个例子，利用正则表达式获取html标签内容。 "
   ]
  },
  {
   "cell_type": "markdown",
   "metadata": {},
   "source": [
    "### lxml\n",
    "请用 requests 库获取湘潭大学主页信息。\n",
    "<img src=\"./xtu.png\" width = \"500\" height = \"35\" div align=center />\n",
    "\n",
    "用 lxml 库抽取下图导航栏中的文本内容。\n",
    "\n",
    "<img src=\"./xtu-navigation-bar.png\" width = \"500\" height = \"35\" div align=center />"
   ]
  },
  {
   "cell_type": "markdown",
   "metadata": {},
   "source": [
    "### BeautifulSoup\n",
    "请用 requests 库获取湘潭大学数学与计算科学学院主页信息。\n",
    "<img src=\"./xtu-math.png\" width = \"500\" height = \"35\" div align=center />\n",
    "\n",
    "+ 用 BeautifulSoup 库抽取导航栏中的文本内容。\n",
    "+ 用 BeautifulSoup 库 + 正则表达式抽取网页中所有网页链接。\n"
   ]
  },
  {
   "cell_type": "markdown",
   "metadata": {},
   "source": [
    "### JSON + API\n",
    "实例：请用API遍历方法爬取动态新闻网页。"
   ]
  },
  {
   "cell_type": "code",
   "execution_count": null,
   "metadata": {},
   "outputs": [],
   "source": []
  }
 ],
 "metadata": {
  "kernelspec": {
   "display_name": "Python 3",
   "language": "python",
   "name": "python3"
  },
  "language_info": {
   "codemirror_mode": {
    "name": "ipython",
    "version": 3
   },
   "file_extension": ".py",
   "mimetype": "text/x-python",
   "name": "python",
   "nbconvert_exporter": "python",
   "pygments_lexer": "ipython3",
   "version": "3.7.6"
  }
 },
 "nbformat": 4,
 "nbformat_minor": 4
}
